{
 "cells": [
  {
   "cell_type": "code",
   "execution_count": 223,
   "metadata": {},
   "outputs": [
    {
     "data": {
      "text/plain": [
       "<module 'x_sites' from '/home/yamamoto/Dropbox/study/ed_hubbard/x_sites.py'>"
      ]
     },
     "execution_count": 223,
     "metadata": {},
     "output_type": "execute_result"
    }
   ],
   "source": [
    "import numpy as np\n",
    "import matplotlib.pyplot as plt\n",
    "import x_sites\n",
    "import importlib\n",
    "importlib.reload(x_sites)"
   ]
  },
  {
   "cell_type": "code",
   "execution_count": 224,
   "metadata": {},
   "outputs": [],
   "source": [
    "ops = x_sites.make_local_ops()\n",
    "cdag = ops['c^+']\n",
    "c = ops['c^-']\n",
    "I = ops['I']\n",
    "F = ops['F']"
   ]
  },
  {
   "cell_type": "code",
   "execution_count": 225,
   "metadata": {},
   "outputs": [],
   "source": [
    "t = 1.0\n",
    "U = 4.0\n",
    "mu = U/2.0\n",
    "L = 2\n",
    "Cdag = {}\n",
    "C = {}\n",
    "Cdag['u'] = [I, cdag]+[I, I]*(L-1)\n",
    "Cdag['d'] = [cdag, F]+[I, I]*(L-1)\n",
    "C['u'] = [I, c]+[I, I]*(L-1)\n",
    "C['d'] = [c, F]+[I, I]*(L-1)\n",
    "Cdagi = {}\n",
    "Ci = {}\n",
    "Ni = {}\n",
    "for s in ['u', 'd']:\n",
    "    Cdagi[s] = []\n",
    "    Ci[s] = []\n",
    "    Ni[s] = []\n",
    "    for i in range(L):\n",
    "        cdagi = x_sites.make_matrix(\n",
    "            np.roll(Cdag[s], 2*i, axis=0))\n",
    "        ci = cdagi.conj().T\n",
    "        Cdagi[s].append(cdagi)\n",
    "        Ci[s].append(ci)\n",
    "        Ni[s].append(cdagi@ci)"
   ]
  },
  {
   "cell_type": "code",
   "execution_count": 226,
   "metadata": {},
   "outputs": [],
   "source": [
    "\n",
    "t = 1.0\n",
    "U = 4.0\n",
    "mu = U/2.0\n",
    "L = 2\n",
    "Cdag = {}\n",
    "C = {}\n",
    "N = {}\n",
    "Cdag['u'] = [x_sites.make_matrix(\n",
    "    [I, I]*i + [I, cdag]+[F, F]*(L-1 - i)) for i in range(L)]\n",
    "Cdag['d'] = [x_sites.make_matrix(\n",
    "    [I, I]*i + [cdag, F]+[F, F]*(L-1 - i)) for i in range(L)]\n",
    "for s in ['u', 'd']:\n",
    "    C[s] = [Cdag[s][i].conj().T for i in range(L)]\n",
    "    N[s] = [Cdag[s][i]@C[s][i] for i in range(L)]"
   ]
  },
  {
   "cell_type": "code",
   "execution_count": 227,
   "metadata": {},
   "outputs": [],
   "source": [
    "hamil = np.zeros((4**L, 4**L))\n",
    "for i in range(L):\n",
    "    hamil += U*N['u'][i]@N['d'][i] - mu * \\\n",
    "        (N['d'][i] + N['u'][i])\n",
    "for s in ['u', 'd']:\n",
    "    for i in range(L):\n",
    "        hamil += -t*(Cdag[s][(i+1) % L]@C[s][i])"
   ]
  },
  {
   "cell_type": "code",
   "execution_count": 228,
   "metadata": {},
   "outputs": [],
   "source": [
    "eigval, eigvec = np.linalg.eigh(hamil)"
   ]
  },
  {
   "cell_type": "code",
   "execution_count": 229,
   "metadata": {},
   "outputs": [
    {
     "data": {
      "text/plain": [
       "array([-4.82842712e+00, -4.00000000e+00, -4.00000000e+00, -4.00000000e+00,\n",
       "       -3.00000000e+00, -3.00000000e+00, -3.00000000e+00, -3.00000000e+00,\n",
       "       -1.00000000e+00, -1.00000000e+00, -1.00000000e+00, -1.00000000e+00,\n",
       "       -3.18873031e-17,  0.00000000e+00,  0.00000000e+00,  8.28427125e-01])"
      ]
     },
     "execution_count": 229,
     "metadata": {},
     "output_type": "execute_result"
    }
   ],
   "source": [
    "eigval"
   ]
  },
  {
   "cell_type": "code",
   "execution_count": 230,
   "metadata": {},
   "outputs": [
    {
     "name": "stdout",
     "output_type": "stream",
     "text": [
      "3.0\n",
      "0.9999999999999998\n",
      "2.0001957781222988\n",
      "2.707106781186548\n",
      "0.9999999999999998\n",
      "1.3072990730436336\n",
      "1.1392282133608753\n",
      "2.499804221877702\n",
      "2.000195778122299\n",
      "1.139228213360875\n",
      "1.0000309378615206\n",
      "2.499999999999998\n",
      "2.707106781186548\n",
      "2.499804221877701\n",
      "2.499999999999999\n",
      "3.0\n"
     ]
    }
   ],
   "source": [
    "Ntotal = np.zeros((4**L, 4**L))\n",
    "for i in range(L):\n",
    "    Ntotal += N['u'][i] + N['d'][i]\n",
    "for i in range(4**L):\n",
    "    print(eigvec[i].conj()@Ntotal@eigvec[i])"
   ]
  },
  {
   "cell_type": "code",
   "execution_count": 231,
   "metadata": {},
   "outputs": [],
   "source": [
    "omegamesh = 100\n",
    "omega_min = -10.0\n",
    "omega_max = 10.0\n",
    "\n",
    "omegas = [omega_min + (-omega_min + omega_max)*iomega /\n",
    "          omegamesh for iomega in range(omegamesh)]"
   ]
  },
  {
   "cell_type": "code",
   "execution_count": 232,
   "metadata": {},
   "outputs": [
    {
     "name": "stdout",
     "output_type": "stream",
     "text": [
      "-10.0\n",
      "-9.8\n",
      "-9.6\n",
      "-9.4\n",
      "-9.2\n",
      "-9.0\n",
      "-8.8\n",
      "-8.6\n",
      "-8.4\n",
      "-8.2\n",
      "-8.0\n",
      "-7.8\n",
      "-7.6\n",
      "-7.4\n",
      "-7.2\n",
      "-7.0\n",
      "-6.8\n",
      "-6.6\n",
      "-6.4\n",
      "-6.2\n",
      "-6.0\n",
      "-5.8\n",
      "-5.6\n",
      "-5.4\n",
      "-5.2\n",
      "-5.0\n",
      "-4.8\n",
      "-4.6\n",
      "-4.4\n",
      "-4.2\n",
      "-4.0\n",
      "-3.8\n",
      "-3.5999999999999996\n",
      "-3.4000000000000004\n",
      "-3.2\n",
      "-3.0\n",
      "-2.8\n",
      "-2.5999999999999996\n",
      "-2.4000000000000004\n",
      "-2.2\n",
      "-2.0\n",
      "-1.8000000000000007\n",
      "-1.5999999999999996\n",
      "-1.4000000000000004\n",
      "-1.1999999999999993\n",
      "-1.0\n",
      "-0.8000000000000007\n",
      "-0.5999999999999996\n",
      "-0.40000000000000036\n",
      "-0.1999999999999993\n",
      "0.0\n",
      "0.1999999999999993\n",
      "0.40000000000000036\n",
      "0.5999999999999996\n",
      "0.8000000000000007\n",
      "1.0\n",
      "1.1999999999999993\n",
      "1.4000000000000004\n",
      "1.5999999999999996\n",
      "1.8000000000000007\n",
      "2.0\n",
      "2.1999999999999993\n",
      "2.4000000000000004\n",
      "2.5999999999999996\n",
      "2.8000000000000007\n",
      "3.0\n",
      "3.1999999999999993\n",
      "3.4000000000000004\n",
      "3.5999999999999996\n",
      "3.8000000000000007\n",
      "4.0\n",
      "4.199999999999999\n",
      "4.4\n",
      "4.6\n",
      "4.800000000000001\n",
      "5.0\n",
      "5.199999999999999\n",
      "5.4\n",
      "5.6\n",
      "5.800000000000001\n",
      "6.0\n",
      "6.199999999999999\n",
      "6.399999999999999\n",
      "6.600000000000001\n",
      "6.800000000000001\n",
      "7.0\n",
      "7.199999999999999\n",
      "7.399999999999999\n",
      "7.600000000000001\n",
      "7.800000000000001\n",
      "8.0\n",
      "8.2\n",
      "8.399999999999999\n",
      "8.600000000000001\n",
      "8.8\n",
      "9.0\n",
      "9.2\n",
      "9.399999999999999\n",
      "9.600000000000001\n",
      "9.8\n"
     ]
    }
   ],
   "source": [
    "Gs = []\n",
    "for omega in omegas:\n",
    "    print(omega)\n",
    "    Gs.append(x_sites.make_PES(eigval, eigvec, Cdagi['d'][0], Ci['d'][0], omega) + x_sites.make_BIS(\n",
    "        eigval, eigvec, Cdagi['d'][0], Ci['d'][0], omega))"
   ]
  },
  {
   "cell_type": "code",
   "execution_count": 233,
   "metadata": {},
   "outputs": [],
   "source": [
    "Gs = np.array(Gs)"
   ]
  },
  {
   "cell_type": "code",
   "execution_count": 234,
   "metadata": {},
   "outputs": [
    {
     "data": {
      "text/plain": [
       "[<matplotlib.lines.Line2D at 0x7f0f33c1ebb0>]"
      ]
     },
     "execution_count": 234,
     "metadata": {},
     "output_type": "execute_result"
    },
    {
     "data": {
      "image/png": "[encoded data removed]",
      "text/plain": [
       "<Figure size 640x480 with 1 Axes>"
      ]
     },
     "metadata": {},
     "output_type": "display_data"
    }
   ],
   "source": [
    "fig = plt.figure()\n",
    "ax = fig.add_subplot()\n",
    "ax.plot(omegas, Gs.imag)"
   ]
  },
  {
   "cell_type": "code",
   "execution_count": 235,
   "metadata": {},
   "outputs": [],
   "source": [
    "omegas = np.array(omegas)"
   ]
  },
  {
   "cell_type": "code",
   "execution_count": 236,
   "metadata": {},
   "outputs": [],
   "source": [
    "sigma = omegas + mu - 1/Gs"
   ]
  },
  {
   "cell_type": "code",
   "execution_count": 237,
   "metadata": {},
   "outputs": [],
   "source": [
    "G_hI = []\n",
    "k_min = -np.pi\n",
    "k_max = np.pi\n",
    "k_mesh = 100\n",
    "ks = [k_min + (-k_min + k_max)*ik/k_mesh for ik in range(k_mesh)]\n",
    "for k in ks:\n",
    "    G_hI.append(1.0/(omegas + mu + np.cos(k) - sigma))"
   ]
  },
  {
   "cell_type": "code",
   "execution_count": 238,
   "metadata": {},
   "outputs": [],
   "source": [
    "G_hI = np.array(G_hI)\n",
    "G_hI = G_hI.T"
   ]
  },
  {
   "cell_type": "code",
   "execution_count": 239,
   "metadata": {},
   "outputs": [
    {
     "data": {
      "text/plain": [
       "<matplotlib.collections.QuadMesh at 0x7f0f33c06850>"
      ]
     },
     "execution_count": 239,
     "metadata": {},
     "output_type": "execute_result"
    },
    {
     "data": {
      "image/png": "[encoded data removed]",
      "text/plain": [
       "<Figure size 640x480 with 1 Axes>"
      ]
     },
     "metadata": {},
     "output_type": "display_data"
    }
   ],
   "source": [
    "fig = plt.figure()\n",
    "ax = fig.add_subplot()\n",
    "X, Y = np.meshgrid(ks, omegas)\n",
    "ax.pcolormesh(X, Y, G_hI.imag)"
   ]
  },
  {
   "cell_type": "code",
   "execution_count": null,
   "metadata": {},
   "outputs": [],
   "source": []
  }
 ],
 "metadata": {
  "kernelspec": {
   "display_name": "base",
   "language": "python",
   "name": "python3"
  },
  "language_info": {
   "codemirror_mode": {
    "name": "ipython",
    "version": 3
   },
   "file_extension": ".py",
   "mimetype": "text/x-python",
   "name": "python",
   "nbconvert_exporter": "python",
   "pygments_lexer": "ipython3",
   "version": "3.9.12"
  },
  "orig_nbformat": 4
 },
 "nbformat": 4,
 "nbformat_minor": 2
}
